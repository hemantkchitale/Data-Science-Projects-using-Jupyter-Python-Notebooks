{
 "cells": [
  {
   "cell_type": "markdown",
   "id": "36bf958b-fe23-4038-9b84-1bf1144cba8f",
   "metadata": {},
   "source": [
    "##### After having viewed the Introductory video on Lists\n",
    "###### This video is on Manipulation of data in Lists"
   ]
  },
  {
   "cell_type": "code",
   "execution_count": 1,
   "id": "688aea10-3aa4-4e3c-a45b-0ac0610fb8ef",
   "metadata": {},
   "outputs": [
    {
     "data": {
      "text/plain": [
       "[1, 2, 3, 4, 5, 6, 7, 8, 9, 10, 11, 12, 13, 14, 15, 16, 17, 18, 19, 20]"
      ]
     },
     "execution_count": 1,
     "metadata": {},
     "output_type": "execute_result"
    }
   ],
   "source": [
    "#First I populate a list with 20 elements\n",
    "\n",
    "xrange=range(1,21,1)   #numbers from 1 to 20, step increment 1\n",
    "my_list=[]\n",
    "for x in xrange:\n",
    "    my_list.append(x)\n",
    "\n",
    "#print the list\n",
    "my_list"
   ]
  },
  {
   "cell_type": "code",
   "execution_count": 2,
   "id": "ff13bf62-5979-44c1-a6a8-22cdddb0002a",
   "metadata": {},
   "outputs": [
    {
     "data": {
      "text/plain": [
       "[2, 4, 6, 8, 10, 12, 14, 16, 18, 20]"
      ]
     },
     "execution_count": 2,
     "metadata": {},
     "output_type": "execute_result"
    }
   ],
   "source": [
    "#now I demonstrate using \"list comprehension\"\n",
    "#extract even numbers to another list\n",
    "\n",
    "even_numbers = [x for x in my_list if x%2 == 0]\n",
    "\n",
    "#print the list of even numbers\n",
    "even_numbers"
   ]
  },
  {
   "cell_type": "code",
   "execution_count": 3,
   "id": "e8b9030d-98b0-43e6-ae2e-b0c7abef832d",
   "metadata": {},
   "outputs": [
    {
     "name": "stdout",
     "output_type": "stream",
     "text": [
      "[2, 4, 6, 8, 10, 12, 14, 16, 18, 20, 36, 24]\n",
      "[36, 24, 20, 18, 16, 14, 12, 10, 8, 6, 4, 2]\n"
     ]
    }
   ],
   "source": [
    "#now I demonstrate sorting a lists after adding two values\n",
    "even_numbers.append(36)\n",
    "even_numbers.append(24)\n",
    "print(even_numbers)\n",
    "even_numbers.sort(reverse=True)\n",
    "print(even_numbers)"
   ]
  },
  {
   "cell_type": "code",
   "execution_count": 4,
   "id": "88e24e3a-0d07-4eda-a1c1-e65df1380c20",
   "metadata": {},
   "outputs": [
    {
     "name": "stdout",
     "output_type": "stream",
     "text": [
      "<class 'list'>\n",
      "The Entire Shopping Cart is : [['Apples', 4], ['Bananas', 6], ['Milk Cartons', 1], ['Eggs', 12]]\n"
     ]
    }
   ],
   "source": [
    "#Example of adding to a Shopping Cart\n",
    "shopping_cart=[]\n",
    "shopping_cart.append(['Apples',4])\n",
    "shopping_cart.append(['Bananas',6])\n",
    "shopping_cart.append(['Milk Cartons',1])\n",
    "shopping_cart.append(['Eggs',12])\n",
    "\n",
    "#print the shopping chart -- which is a list of lists\n",
    "print(type(shopping_cart))\n",
    "print('The Entire Shopping Cart is :', shopping_cart)"
   ]
  },
  {
   "cell_type": "code",
   "execution_count": 5,
   "id": "3747b1b0-702b-44d7-b91c-7f12c9500d48",
   "metadata": {},
   "outputs": [
    {
     "name": "stdout",
     "output_type": "stream",
     "text": [
      "['Bananas', 6]\n",
      "Milk Cartons\n",
      "1\n",
      "Item 4 is : Eggs  quantity : 12\n"
     ]
    }
   ],
   "source": [
    "#test the shopping chart\n",
    "#extract the 2nd item in the shopping chart\n",
    "print(shopping_cart[1])  #because the index starts with 0\n",
    "\n",
    "#extract the 3rd item as a tuple  #a tuple is a collection that is immutable -- values in it cannot be modified\n",
    "item, qty = shopping_cart[2][0:2]\n",
    "print (item)\n",
    "print (qty)\n",
    "\n",
    "#extract the 4rd item as a tuple  #a tuple is a collection that is immutable -- values in it cannot be modified\n",
    "item, qty = shopping_cart[3][0:2]\n",
    "print ('Item 4 is :',item,' quantity :',qty)"
   ]
  },
  {
   "cell_type": "code",
   "execution_count": 7,
   "id": "fcce5d45-8a61-4f0a-bb5c-cb6ffc057e1a",
   "metadata": {},
   "outputs": [
    {
     "name": "stdout",
     "output_type": "stream",
     "text": [
      "Number of apples is  4\n"
     ]
    }
   ],
   "source": [
    "print('Number of apples is ', shopping_cart[0][1])"
   ]
  },
  {
   "cell_type": "code",
   "execution_count": 8,
   "id": "5bfdb095-d384-4b0e-a8ee-3c576801b1c5",
   "metadata": {},
   "outputs": [
    {
     "name": "stdout",
     "output_type": "stream",
     "text": [
      "Current List is :  [['Apples', 4], ['Bananas', 6], ['Milk Cartons', 1], ['Eggs', 12]]\n",
      "2\n",
      "Updated List is :  [['Apples', 4], ['Bananas', 6], ['Eggs', 12]]\n"
     ]
    }
   ],
   "source": [
    "#demonstrate remove milk cartons\n",
    "#current shopping cart\n",
    "print('Current List is : ', shopping_cart)\n",
    "#get location of milk cartons\n",
    "milk_at = shopping_cart.index(['Milk Cartons',1])\n",
    "print(milk_at)\n",
    "#remove\n",
    "shopping_cart.pop(milk_at)\n",
    "#print updated shopping cart\n",
    "print('Updated List is : ', shopping_cart)"
   ]
  },
  {
   "cell_type": "code",
   "execution_count": 10,
   "id": "ed408173-1d36-4a3e-82de-63793a36d501",
   "metadata": {},
   "outputs": [
    {
     "name": "stdout",
     "output_type": "stream",
     "text": [
      "<class 'dict'>\n",
      "{'USA': 'Washington D.C', 'England': 'London', 'France': 'Paris', 'Japan': 'Tokyo'}\n"
     ]
    }
   ],
   "source": [
    "#an example of using two lists to build a dictionary\n",
    "#a dictionary can be used as a lookup table -- it is essentially a set of key:value pairs\n",
    "\n",
    "Cities=['Washington D.C','London','Paris','Tokyo']\n",
    "Countries=['USA','England','France','Japan']\n",
    "\n",
    "#create a dictionary\n",
    "capital_cities ={}\n",
    "for i in range(0,len(Cities)):  #step through the number of entries in the list\n",
    "    #print(i)\n",
    "    #print(Cities[i])\n",
    "    capital_cities[Countries[i]] = Cities[i]  #Dictionary key is Country, Dictionary value is City\n",
    "\n",
    "print(type(capital_cities))\n",
    "print(capital_cities)"
   ]
  },
  {
   "cell_type": "code",
   "execution_count": 11,
   "id": "56af1586-a537-4190-8089-1504b52d67a6",
   "metadata": {},
   "outputs": [
    {
     "name": "stdout",
     "output_type": "stream",
     "text": [
      "London\n",
      "Tokyo\n"
     ]
    }
   ],
   "source": [
    "#test the dictionary\n",
    "print(capital_cities['England'])\n",
    "print(capital_cities['Japan'])"
   ]
  },
  {
   "cell_type": "code",
   "execution_count": 13,
   "id": "a7caad62-67ee-4828-88ff-4ff04a28bef6",
   "metadata": {},
   "outputs": [
    {
     "name": "stdout",
     "output_type": "stream",
     "text": [
      "dict_keys(['USA', 'England', 'France', 'Japan'])\n"
     ]
    }
   ],
   "source": [
    "print(capital_cities.keys())"
   ]
  },
  {
   "cell_type": "code",
   "execution_count": null,
   "id": "9f8118de-f339-46ba-a7d8-d30b431a1346",
   "metadata": {},
   "outputs": [],
   "source": []
  }
 ],
 "metadata": {
  "kernelspec": {
   "display_name": "Python 3 (ipykernel)",
   "language": "python",
   "name": "python3"
  },
  "language_info": {
   "codemirror_mode": {
    "name": "ipython",
    "version": 3
   },
   "file_extension": ".py",
   "mimetype": "text/x-python",
   "name": "python",
   "nbconvert_exporter": "python",
   "pygments_lexer": "ipython3",
   "version": "3.13.5"
  }
 },
 "nbformat": 4,
 "nbformat_minor": 5
}
