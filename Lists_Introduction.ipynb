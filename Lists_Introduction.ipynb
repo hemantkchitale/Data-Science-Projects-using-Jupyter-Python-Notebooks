{
 "cells": [
  {
   "cell_type": "markdown",
   "id": "04391661-b4b7-4518-b312-49c2cb38ce10",
   "metadata": {},
   "source": [
    "##### Lists in Python are Collections of Elements\n",
    "##### Lists do not have rules like :\n",
    "######    i) Ordering (i.e. they are not sorted, but *are* accessed via an Index)\n",
    "######    ii) DataType check (i.e. a List can contain elements of different datatypes, even lists)\n",
    "######    iii) Uniqueness (i.e. lists allow duplicate values)"
   ]
  },
  {
   "cell_type": "code",
   "execution_count": 1,
   "id": "d74b50aa-cffa-44cd-a103-f0951fb02f1d",
   "metadata": {},
   "outputs": [],
   "source": [
    "#create an empty lst\n",
    "my_list=[]"
   ]
  },
  {
   "cell_type": "code",
   "execution_count": 2,
   "id": "8ccc5340-f997-4127-97c1-5565072a1a1f",
   "metadata": {},
   "outputs": [
    {
     "data": {
      "text/plain": [
       "list"
      ]
     },
     "execution_count": 2,
     "metadata": {},
     "output_type": "execute_result"
    }
   ],
   "source": [
    "type(my_list)"
   ]
  },
  {
   "cell_type": "code",
   "execution_count": 3,
   "id": "debd3427-9df8-4c85-a794-6cb22421bd9c",
   "metadata": {},
   "outputs": [
    {
     "data": {
      "text/plain": [
       "[1]"
      ]
     },
     "execution_count": 3,
     "metadata": {},
     "output_type": "execute_result"
    }
   ],
   "source": [
    "#add a single item to the list\n",
    "my_list.append(1)\n",
    "my_list"
   ]
  },
  {
   "cell_type": "code",
   "execution_count": 4,
   "id": "a7e46902-a4c4-4106-a4de-d399d7c991ae",
   "metadata": {},
   "outputs": [
    {
     "data": {
      "text/plain": [
       "[1, 2]"
      ]
     },
     "execution_count": 4,
     "metadata": {},
     "output_type": "execute_result"
    }
   ],
   "source": [
    "my_list.append(2)\n",
    "my_list"
   ]
  },
  {
   "cell_type": "code",
   "execution_count": 5,
   "id": "9410d3f5-1e57-495f-bf9c-4e813c9f26a0",
   "metadata": {},
   "outputs": [],
   "source": [
    "#create a list with elements of integer and string datatype\n",
    "my_2nd_list=[2,4,6,'abc','R',8]"
   ]
  },
  {
   "cell_type": "code",
   "execution_count": 6,
   "id": "af23755f-a2e9-4695-9163-bfb162e8bf82",
   "metadata": {},
   "outputs": [
    {
     "data": {
      "text/plain": [
       "[2, 4, 6, 'abc', 'R', 8]"
      ]
     },
     "execution_count": 6,
     "metadata": {},
     "output_type": "execute_result"
    }
   ],
   "source": [
    "my_2nd_list"
   ]
  },
  {
   "cell_type": "code",
   "execution_count": 7,
   "id": "5e5f3be3-aabf-4ccc-895c-194e97bd4b94",
   "metadata": {},
   "outputs": [],
   "source": [
    "#create a list that is an aggregate of the two lists\n",
    "my_agg_list = my_list + my_2nd_list"
   ]
  },
  {
   "cell_type": "code",
   "execution_count": 8,
   "id": "9a08ef23-6793-4e63-b021-e6bc5c80665d",
   "metadata": {},
   "outputs": [
    {
     "data": {
      "text/plain": [
       "[1, 2, 2, 4, 6, 'abc', 'R', 8]"
      ]
     },
     "execution_count": 8,
     "metadata": {},
     "output_type": "execute_result"
    }
   ],
   "source": [
    "my_agg_list"
   ]
  },
  {
   "cell_type": "code",
   "execution_count": 9,
   "id": "6602b0ba-78e4-412d-8638-7bde4d9d9b0e",
   "metadata": {},
   "outputs": [
    {
     "data": {
      "text/plain": [
       "[1, 2, 'New', 2, 4, 6, 'abc', 'R', 8]"
      ]
     },
     "execution_count": 9,
     "metadata": {},
     "output_type": "execute_result"
    }
   ],
   "source": [
    "#add an element at a specific position\n",
    "my_agg_list.insert(2,'New')\n",
    "my_agg_list"
   ]
  },
  {
   "cell_type": "code",
   "execution_count": 10,
   "id": "4e412abb-b4bf-4e41-a1db-671b2a10cd26",
   "metadata": {},
   "outputs": [
    {
     "data": {
      "text/plain": [
       "2"
      ]
     },
     "execution_count": 10,
     "metadata": {},
     "output_type": "execute_result"
    }
   ],
   "source": [
    "my_agg_list[3]"
   ]
  },
  {
   "cell_type": "markdown",
   "id": "59af445d-5e23-4a4c-b2c1-2051fbf7b5e1",
   "metadata": {},
   "source": [
    "###### Lists can also contain lists"
   ]
  },
  {
   "cell_type": "code",
   "execution_count": 11,
   "id": "0727cf80-617a-4838-a26b-693029387338",
   "metadata": {},
   "outputs": [],
   "source": [
    "#create a list that includes two lists, one being an existing list \n",
    "my_multi_list = [ my_agg_list,'single_string',['X','Y','Z',1,2,3] ]"
   ]
  },
  {
   "cell_type": "code",
   "execution_count": 12,
   "id": "c644f2af-63c7-44cf-9c28-ca2c8330ae0b",
   "metadata": {},
   "outputs": [
    {
     "data": {
      "text/plain": [
       "[[1, 2, 'New', 2, 4, 6, 'abc', 'R', 8],\n",
       " 'single_string',\n",
       " ['X', 'Y', 'Z', 1, 2, 3]]"
      ]
     },
     "execution_count": 12,
     "metadata": {},
     "output_type": "execute_result"
    }
   ],
   "source": [
    "my_multi_list"
   ]
  },
  {
   "cell_type": "code",
   "execution_count": 29,
   "id": "596cc6de-478e-414a-8066-7377023ba76a",
   "metadata": {},
   "outputs": [
    {
     "data": {
      "text/plain": [
       "list"
      ]
     },
     "execution_count": 29,
     "metadata": {},
     "output_type": "execute_result"
    }
   ],
   "source": [
    "type(my_multi_list)"
   ]
  },
  {
   "cell_type": "markdown",
   "id": "6c831f2f-5c18-404e-89b5-4bde8ca20c98",
   "metadata": {},
   "source": [
    "###### List elements are accessed via the Index\n",
    "###### 0 is the first element,  : allows specifying a range of elements, -1 is the last element"
   ]
  },
  {
   "cell_type": "code",
   "execution_count": 13,
   "id": "bc68caa7-fc06-43f9-8955-dda83546ea21",
   "metadata": {},
   "outputs": [
    {
     "data": {
      "text/plain": [
       "[1, 2, 'New', 2, 4, 6, 'abc', 'R', 8]"
      ]
     },
     "execution_count": 13,
     "metadata": {},
     "output_type": "execute_result"
    }
   ],
   "source": [
    "my_agg_list"
   ]
  },
  {
   "cell_type": "code",
   "execution_count": 14,
   "id": "22bc83da-04fd-4678-9851-4eaa16ac834b",
   "metadata": {},
   "outputs": [
    {
     "data": {
      "text/plain": [
       "1"
      ]
     },
     "execution_count": 14,
     "metadata": {},
     "output_type": "execute_result"
    }
   ],
   "source": [
    "my_agg_list[0]"
   ]
  },
  {
   "cell_type": "code",
   "execution_count": 15,
   "id": "1b641758-5a61-4e41-85e4-d4ff0ca905bb",
   "metadata": {},
   "outputs": [
    {
     "data": {
      "text/plain": [
       "[1, 2]"
      ]
     },
     "execution_count": 15,
     "metadata": {},
     "output_type": "execute_result"
    }
   ],
   "source": [
    "my_agg_list[0:2]  #acceses elements from 0 upto but not including 2"
   ]
  },
  {
   "cell_type": "code",
   "execution_count": 16,
   "id": "4f6f4568-3ef1-4ba4-b1ab-48cd890ea214",
   "metadata": {},
   "outputs": [
    {
     "data": {
      "text/plain": [
       "['New', 2, 4, 6]"
      ]
     },
     "execution_count": 16,
     "metadata": {},
     "output_type": "execute_result"
    }
   ],
   "source": [
    "my_agg_list[2:6]  #accesses elements from 2 upto but not including 6"
   ]
  },
  {
   "cell_type": "code",
   "execution_count": 17,
   "id": "f043dc62-c077-4fa0-9360-8b0ff1f97ca7",
   "metadata": {},
   "outputs": [
    {
     "data": {
      "text/plain": [
       "'R'"
      ]
     },
     "execution_count": 17,
     "metadata": {},
     "output_type": "execute_result"
    }
   ],
   "source": [
    "my_agg_list[-2]  #accesses the 2nd last element"
   ]
  },
  {
   "cell_type": "code",
   "execution_count": 18,
   "id": "b3bbb8cc-fddc-43b1-bc1e-3eed8bcdeade",
   "metadata": {},
   "outputs": [
    {
     "data": {
      "text/plain": [
       "[1, 2, 'New', 2, 4, 6, 'abc']"
      ]
     },
     "execution_count": 18,
     "metadata": {},
     "output_type": "execute_result"
    }
   ],
   "source": [
    "my_agg_list[:-2]  #accesses elements from 0 upto but not including the 2nd last"
   ]
  },
  {
   "cell_type": "code",
   "execution_count": 19,
   "id": "771abb98-366d-4bd5-9482-e229cc03b1a4",
   "metadata": {},
   "outputs": [
    {
     "data": {
      "text/plain": [
       "[[1, 2, 'New', 2, 4, 6, 'abc', 'R', 8],\n",
       " 'single_string',\n",
       " ['X', 'Y', 'Z', 1, 2, 3]]"
      ]
     },
     "execution_count": 19,
     "metadata": {},
     "output_type": "execute_result"
    }
   ],
   "source": [
    "my_multi_list"
   ]
  },
  {
   "cell_type": "code",
   "execution_count": 20,
   "id": "8c309045-4c7c-4e49-888a-a143f46a46b8",
   "metadata": {},
   "outputs": [
    {
     "data": {
      "text/plain": [
       "[1, 2, 'New', 2, 4, 6, 'abc', 'R', 8]"
      ]
     },
     "execution_count": 20,
     "metadata": {},
     "output_type": "execute_result"
    }
   ],
   "source": [
    "my_multi_list[0]  #accesses the first element -- which, itself, is a list embedded in my_multi_list"
   ]
  },
  {
   "cell_type": "code",
   "execution_count": 21,
   "id": "f4b2eca4-c37e-4442-bef8-212355a6cda7",
   "metadata": {},
   "outputs": [
    {
     "data": {
      "text/plain": [
       "['single_string', ['X', 'Y', 'Z', 1, 2, 3]]"
      ]
     },
     "execution_count": 21,
     "metadata": {},
     "output_type": "execute_result"
    }
   ],
   "source": [
    "my_multi_list[-2:]  #accesses the elements from the 2nd last upto the end"
   ]
  },
  {
   "cell_type": "code",
   "execution_count": 22,
   "id": "3672be03-d895-4f0c-9bfc-931994392937",
   "metadata": {},
   "outputs": [
    {
     "data": {
      "text/plain": [
       "[1, 2, 'New', 2, 4, 6, 'abc', 'R', 8]"
      ]
     },
     "execution_count": 22,
     "metadata": {},
     "output_type": "execute_result"
    }
   ],
   "source": [
    "my_agg_list"
   ]
  },
  {
   "cell_type": "code",
   "execution_count": 23,
   "id": "fd2c8bc2-9bfb-4282-8431-bc8f23d9607a",
   "metadata": {},
   "outputs": [
    {
     "data": {
      "text/plain": [
       "[]"
      ]
     },
     "execution_count": 23,
     "metadata": {},
     "output_type": "execute_result"
    }
   ],
   "source": [
    "#empty the list\n",
    "my_agg_list.clear()\n",
    "my_agg_list"
   ]
  },
  {
   "cell_type": "code",
   "execution_count": 24,
   "id": "71f42f30-10bf-4f11-8a06-ac31a4a3176d",
   "metadata": {},
   "outputs": [
    {
     "data": {
      "text/plain": [
       "list"
      ]
     },
     "execution_count": 24,
     "metadata": {},
     "output_type": "execute_result"
    }
   ],
   "source": [
    "type(my_agg_list)"
   ]
  },
  {
   "cell_type": "code",
   "execution_count": 25,
   "id": "22c88d46-ca87-4bce-9ee4-774ef528b10f",
   "metadata": {},
   "outputs": [
    {
     "data": {
      "text/plain": [
       "[[], 'single_string', ['X', 'Y', 'Z', 1, 2, 3]]"
      ]
     },
     "execution_count": 25,
     "metadata": {},
     "output_type": "execute_result"
    }
   ],
   "source": [
    "#my_agg_list was the first element in my_multi_list\n",
    "#check my_multi_list now  -- the first element is now an empty list\n",
    "my_multi_list"
   ]
  },
  {
   "cell_type": "code",
   "execution_count": 26,
   "id": "e9ce832a-44e1-4b0c-a605-33b1b9d8615a",
   "metadata": {},
   "outputs": [
    {
     "ename": "NameError",
     "evalue": "name 'my_agg_list' is not defined",
     "output_type": "error",
     "traceback": [
      "\u001b[1;31m---------------------------------------------------------------------------\u001b[0m",
      "\u001b[1;31mNameError\u001b[0m                                 Traceback (most recent call last)",
      "Cell \u001b[1;32mIn[26], line 3\u001b[0m\n\u001b[0;32m      1\u001b[0m \u001b[38;5;66;03m#delete a list\u001b[39;00m\n\u001b[0;32m      2\u001b[0m \u001b[38;5;28;01mdel\u001b[39;00m my_agg_list\n\u001b[1;32m----> 3\u001b[0m my_agg_list\n",
      "\u001b[1;31mNameError\u001b[0m: name 'my_agg_list' is not defined"
     ]
    }
   ],
   "source": [
    "#delete a list\n",
    "del my_agg_list\n",
    "my_agg_list"
   ]
  },
  {
   "cell_type": "code",
   "execution_count": 27,
   "id": "2991cae4-4fa5-4341-8aa4-3da7c1272350",
   "metadata": {},
   "outputs": [
    {
     "name": "stdout",
     "output_type": "stream",
     "text": [
      "['a', 'b', 'c']\n",
      "['a', 'b', 'c']\n"
     ]
    }
   ],
   "source": [
    "#copy a list using two different methods\n",
    "source_list=['a','b','c']\n",
    "target_list_1=source_list\n",
    "target_list_copied=source_list.copy()\n",
    "print(target_list_1)\n",
    "print(target_list_copied)"
   ]
  },
  {
   "cell_type": "code",
   "execution_count": 28,
   "id": "7956a28f-e09a-40ce-b819-b9a6b34373e4",
   "metadata": {},
   "outputs": [
    {
     "name": "stdout",
     "output_type": "stream",
     "text": [
      "[]\n",
      "['a', 'b', 'c']\n"
     ]
    }
   ],
   "source": [
    "#and then see what happens after the source list is emptied\n",
    "source_list.clear()\n",
    "print(target_list_1)\n",
    "print(target_list_copied)"
   ]
  },
  {
   "cell_type": "code",
   "execution_count": null,
   "id": "f55a333c-fafd-445d-915c-ac23a86629d1",
   "metadata": {},
   "outputs": [],
   "source": []
  }
 ],
 "metadata": {
  "kernelspec": {
   "display_name": "Python 3 (ipykernel)",
   "language": "python",
   "name": "python3"
  },
  "language_info": {
   "codemirror_mode": {
    "name": "ipython",
    "version": 3
   },
   "file_extension": ".py",
   "mimetype": "text/x-python",
   "name": "python",
   "nbconvert_exporter": "python",
   "pygments_lexer": "ipython3",
   "version": "3.13.5"
  }
 },
 "nbformat": 4,
 "nbformat_minor": 5
}
